{
  "nbformat": 4,
  "nbformat_minor": 0,
  "metadata": {
    "colab": {
      "provenance": [],
      "include_colab_link": true
    },
    "kernelspec": {
      "name": "python3",
      "display_name": "Python 3"
    },
    "language_info": {
      "name": "python"
    }
  },
  "cells": [
    {
      "cell_type": "markdown",
      "metadata": {
        "id": "view-in-github",
        "colab_type": "text"
      },
      "source": [
        "<a href=\"https://colab.research.google.com/github/ayshahussen/project_gss/blob/main/Project1_draft.ipynb\" target=\"_parent\"><img src=\"https://colab.research.google.com/assets/colab-badge.svg\" alt=\"Open In Colab\"/></a>"
      ]
    },
    {
      "cell_type": "markdown",
      "source": [
        "# Project: GSS\n",
        "\n",
        "**Group 2: Randa Ampah, Neha Channamraju, Rebekah Weaver, Faith Koobial, Gian Baez, Aysha Hussen**"
      ],
      "metadata": {
        "id": "E9qsXRKAtzG0"
      }
    },
    {
      "cell_type": "markdown",
      "source": [
        "# Summary"
      ],
      "metadata": {
        "id": "DCyZmV7LvTxc"
      }
    },
    {
      "cell_type": "markdown",
      "source": [
        "# Data\n"
      ],
      "metadata": {
        "id": "Nr88V5gDveBd"
      }
    },
    {
      "cell_type": "markdown",
      "source": [
        "When exploring the happiness data for plotting, we found out that it was a category variable instead of a string variable. It also had many more unique value options than were chosen by the people who took the survey. The problem was solved by converting the happy variable to a string, which led to the unique values being limited to 4 (very happy, pretty happy, not so happy, and NaN). Upon further explorations, we found this to be the case with all of our categorical variables and applied the same remedy to those variables as well."
      ],
      "metadata": {
        "id": "_vZuIBLJGv20"
      }
    },
    {
      "cell_type": "markdown",
      "source": [
        "# Results"
      ],
      "metadata": {
        "id": "1Krpdw8FviWy"
      }
    },
    {
      "cell_type": "markdown",
      "source": [
        "# Conclusion"
      ],
      "metadata": {
        "id": "jbwUVllAvniC"
      }
    },
    {
      "cell_type": "markdown",
      "source": [
        "# Appendix"
      ],
      "metadata": {
        "id": "G_oLFgLnvrbw"
      }
    }
  ]
}